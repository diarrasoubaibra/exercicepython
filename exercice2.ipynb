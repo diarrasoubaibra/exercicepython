{
 "cells": [
  {
   "cell_type": "code",
   "execution_count": 10,
   "id": "e95e2ce0",
   "metadata": {},
   "outputs": [
    {
     "data": {
      "text/plain": [
       "120"
      ]
     },
     "execution_count": 10,
     "metadata": {},
     "output_type": "execute_result"
    }
   ],
   "source": [
    "###exercice 1-1\n",
    "\n",
    "def fact(n):\n",
    "    v = 1\n",
    "    for i in range(1, n+1):\n",
    "        v*=i\n",
    "    return(v)\n",
    "fact(5)"
   ]
  },
  {
   "cell_type": "code",
   "execution_count": 7,
   "id": "fb15cce8",
   "metadata": {},
   "outputs": [
    {
     "name": "stdout",
     "output_type": "stream",
     "text": [
      "9\n",
      "7\n",
      "5\n",
      "3\n",
      "1\n"
     ]
    }
   ],
   "source": [
    "###exercice1-2\n",
    "\n",
    "def nmbrimpair(i):\n",
    "    while(i>0):\n",
    "        i-=1\n",
    "        if(i%2==1):\n",
    "            print(i)\n",
    "nmbrimpair(10)"
   ]
  },
  {
   "cell_type": "code",
   "execution_count": null,
   "id": "a152fcbe",
   "metadata": {},
   "outputs": [],
   "source": []
  }
 ],
 "metadata": {
  "kernelspec": {
   "display_name": "Python 3",
   "language": "python",
   "name": "python3"
  },
  "language_info": {
   "codemirror_mode": {
    "name": "ipython",
    "version": 3
   },
   "file_extension": ".py",
   "mimetype": "text/x-python",
   "name": "python",
   "nbconvert_exporter": "python",
   "pygments_lexer": "ipython3",
   "version": "3.8.8"
  }
 },
 "nbformat": 4,
 "nbformat_minor": 5
}
