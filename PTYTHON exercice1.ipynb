{
 "cells": [
  {
   "cell_type": "code",
   "execution_count": 11,
   "id": "3efaed60",
   "metadata": {},
   "outputs": [
    {
     "data": {
      "text/plain": [
       "'corpulence normale'"
      ]
     },
     "execution_count": 11,
     "metadata": {},
     "output_type": "execute_result"
    }
   ],
   "source": [
    "\n",
    "###### exercice 1.1\n",
    "\n",
    "def imc(masse, taille):\n",
    "    t = taille/100  #conversion de la taille(cm) en m\n",
    "    i = masse/(t**2)\n",
    "    if(i<=18.4):\n",
    "        resultat = 'vous êtes maigre'\n",
    "    elif(i>=18.5 and i<24.9):\n",
    "        resultat = 'corpulence normale'\n",
    "    elif(i>=25 and i<29.9):\n",
    "        resultat = 'surpoids'\n",
    "    elif(i>=30 and i<34.9):\n",
    "        resultat = 'obésité modérée'\n",
    "    elif(i>=35 and i<39.9):\n",
    "        resultat = 'obésité sévère'\n",
    "    else:\n",
    "        resultat = 'obésité morbide'\n",
    "    return(resultat)\n",
    "imc(62, 183)\n",
    "    \n",
    "    \n",
    "   "
   ]
  },
  {
   "cell_type": "code",
   "execution_count": 1,
   "id": "52c81749",
   "metadata": {},
   "outputs": [
    {
     "data": {
      "text/plain": [
       "'impossible'"
      ]
     },
     "execution_count": 1,
     "metadata": {},
     "output_type": "execute_result"
    }
   ],
   "source": [
    "###exercice 1-2###\n",
    "\n",
    "def mention(note):\n",
    "    r = 0*20\n",
    "    A = 10*20\n",
    "    B = 12*20\n",
    "    C = 14*20\n",
    "    tb = 18*20\n",
    "    ex = 20*20\n",
    "    if(note>=r and note<A):\n",
    "        mention = ('vous avez la mention recalé')\n",
    "    elif(note>=A and note<B):\n",
    "        mention = ('vous avez la mention passable')\n",
    "    elif(note>=B and note<C):\n",
    "        mention = ('vous avez la mention Assez-Bien')\n",
    "    elif(note>=C and note<tb):\n",
    "        mention = ('vous avez la mention Bien')\n",
    "    elif(note>=tb and note<ex):\n",
    "        mention = ('vous avez la mention excellente')\n",
    "    else:\n",
    "        mention = ('impossible')\n",
    "    return(mention)\n",
    "mention(400)"
   ]
  },
  {
   "cell_type": "code",
   "execution_count": 2,
   "id": "e346f6c6",
   "metadata": {},
   "outputs": [
    {
     "data": {
      "text/plain": [
       "78.53981633974483"
      ]
     },
     "execution_count": 2,
     "metadata": {},
     "output_type": "execute_result"
    }
   ],
   "source": [
    "### exercice 1-3 partie1\n",
    "\n",
    "def air(r):\n",
    "    from math import pi\n",
    "    air = pi*r**2\n",
    "    return(air)\n",
    "air(5)"
   ]
  },
  {
   "cell_type": "code",
   "execution_count": 5,
   "id": "507ebd74",
   "metadata": {},
   "outputs": [
    {
     "data": {
      "text/plain": [
       "' 78.53981633974483 cm²'"
      ]
     },
     "execution_count": 5,
     "metadata": {},
     "output_type": "execute_result"
    }
   ],
   "source": [
    "### exercice 1-3 partie2\n",
    "def air(r, unite):\n",
    "    from math import pi\n",
    "    air = pi*r**2\n",
    "    A=f\" {air} {unite}²\"\n",
    "    return(A)\n",
    "air(5, 'cm')"
   ]
  }
 ],
 "metadata": {
  "kernelspec": {
   "display_name": "Python 3",
   "language": "python",
   "name": "python3"
  },
  "language_info": {
   "codemirror_mode": {
    "name": "ipython",
    "version": 3
   },
   "file_extension": ".py",
   "mimetype": "text/x-python",
   "name": "python",
   "nbconvert_exporter": "python",
   "pygments_lexer": "ipython3",
   "version": "3.8.8"
  }
 },
 "nbformat": 4,
 "nbformat_minor": 5
}
